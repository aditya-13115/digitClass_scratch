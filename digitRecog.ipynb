{
 "cells": [
  {
   "cell_type": "markdown",
   "metadata": {},
   "source": [
    "# Digit Recognition from Scratch"
   ]
  },
  {
   "cell_type": "code",
   "execution_count": 6,
   "metadata": {},
   "outputs": [],
   "source": [
    "import numpy as np\n",
    "import pandas as pd\n",
    "import tensorflow as tf\n",
    "from tensorflow import keras\n",
    "import matplotlib.pyplot as plt\n",
    "import keras.datasets.mnist as mnist\n",
    "%matplotlib inline"
   ]
  },
  {
   "cell_type": "code",
   "execution_count": 26,
   "metadata": {},
   "outputs": [],
   "source": [
    "# Load dataset from Keras API\n",
    "(x_train, y_train), (x_test, y_test) = mnist.load_data()\n",
    "\n",
    "# Flatten images to shape (784, number of samples) and normalize\n",
    "x_train = x_train.reshape(60000, 28 * 28).T / 255.0  # Shape (784, 60000)\n",
    "x_test = x_test.reshape(10000, 28 * 28).T / 255.0  # Shape (784, 10000)\n",
    "\n",
    "# Convert labels to 1D arrays\n",
    "y_train = y_train.flatten()  # Convert to shape (60000,)\n",
    "y_test = y_test.flatten()  # Convert to shape (10000,)\n",
    "\n",
    "\n",
    "# Shuffle the training data\n",
    "data = np.vstack((y_train, x_train))  # Stack labels and features\n",
    "data = data.T  # Transpose for shuffling\n",
    "np.random.shuffle(data)  # Shuffle rows\n",
    "data = data.T  # Transpose back\n",
    "\n",
    "# Split into dev and training sets\n",
    "data_dev = data[:, :1000]  # First 1000 samples\n",
    "y_dev = data_dev[0].reshape(1, -1)  # Extract labels\n",
    "x_dev = data_dev[1:]  # Extract features\n",
    "\n",
    "data_train = data[:, 1000:]  # Remaining samples\n",
    "y_train = data_train[0].reshape(1, -1)  # Extract labels\n",
    "x_train = data_train[1:]  # Extract features\n",
    "\n",
    "# Get number of training samples\n",
    "_, m_train = x_train.shape"
   ]
  },
  {
   "cell_type": "code",
   "execution_count": 8,
   "metadata": {},
   "outputs": [
    {
     "data": {
      "text/plain": [
       "(784, 59000)"
      ]
     },
     "execution_count": 8,
     "metadata": {},
     "output_type": "execute_result"
    }
   ],
   "source": [
    "x_train.shape"
   ]
  },
  {
   "cell_type": "code",
   "execution_count": 9,
   "metadata": {},
   "outputs": [
    {
     "data": {
      "text/plain": [
       "(784, 10000)"
      ]
     },
     "execution_count": 9,
     "metadata": {},
     "output_type": "execute_result"
    }
   ],
   "source": [
    "x_test.shape"
   ]
  },
  {
   "cell_type": "code",
   "execution_count": 13,
   "metadata": {},
   "outputs": [],
   "source": [
    "def init_param():\n",
    "    w1 = np.random.randn(10, 784) * np.sqrt(2 / 784)  # He Initialization for ReLU\n",
    "    b1 = np.zeros((10, 1))  # Bias initialized to zero\n",
    "    w2 = np.random.randn(10, 10) * np.sqrt(2 / 10)  # He Initialization for next layer\n",
    "    b2 = np.zeros((10, 1))  # Bias initialized to zero\n",
    "    return w1, b1, w2, b2"
   ]
  },
  {
   "cell_type": "code",
   "execution_count": 14,
   "metadata": {},
   "outputs": [
    {
     "data": {
      "text/plain": [
       "' \\n    Use np.max() when you need the largest value in an array or along an axis.\\n    Use np.maximum() when you need an element-wise comparison between two arrays.\\n'"
      ]
     },
     "execution_count": 14,
     "metadata": {},
     "output_type": "execute_result"
    }
   ],
   "source": [
    "def ReLU(z):\n",
    "    return np.maximum(0,z)\n",
    "\n",
    "''' \n",
    "    Use np.max() when you need the largest value in an array or along an axis.\n",
    "    Use np.maximum() when you need an element-wise comparison between two arrays.\n",
    "'''"
   ]
  },
  {
   "cell_type": "code",
   "execution_count": 15,
   "metadata": {},
   "outputs": [],
   "source": [
    "def deri_ReLU(z):\n",
    "    return z>0"
   ]
  },
  {
   "cell_type": "code",
   "execution_count": 16,
   "metadata": {},
   "outputs": [],
   "source": [
    "def SoftMax(Z):\n",
    "    Z -= np.max(Z, axis=0)  # Subtract max value for numerical stability\n",
    "    A = np.exp(Z) / np.sum(np.exp(Z), axis=0)\n",
    "    return A\n"
   ]
  },
  {
   "cell_type": "code",
   "execution_count": 28,
   "metadata": {},
   "outputs": [],
   "source": [
    "def OneHot(Y):\n",
    "    Y = Y.astype(int)  # Ensure Y is of integer type\n",
    "    one_hot_Y = np.zeros((10, Y.size), dtype=int)  # Ensure dtype=int\n",
    "    one_hot_Y[Y, np.arange(Y.size)] = 1  # One-hot encode\n",
    "    return one_hot_Y\n"
   ]
  },
  {
   "cell_type": "code",
   "execution_count": 18,
   "metadata": {},
   "outputs": [],
   "source": [
    "def forward_prop(w1, b1, w2, b2, X):\n",
    "    z1 = w1.dot(X) + b1\n",
    "    a1 = ReLU(z1)\n",
    "    z2 = w2.dot(a1) + b2\n",
    "    a2 = SoftMax(z2)\n",
    "    return z1,a1,z2,a2"
   ]
  },
  {
   "cell_type": "code",
   "execution_count": 19,
   "metadata": {},
   "outputs": [],
   "source": [
    "def back_prop(z1,a1,z2,a2,w2,X,Y):\n",
    "    m = Y.size\n",
    "    one_hot_Y = OneHot(Y)\n",
    "    dz2 = a2 - one_hot_Y\n",
    "    dw2 = 1/m * dz2.dot(a1.T)\n",
    "    db2 = 1 / m * np.sum(dz2)\n",
    "    dz1 = w2.T.dot(dz2)*deri_ReLU(z1)\n",
    "    dw1 = 1/m * dz1.dot(X.T)\n",
    "    db1 = 1 / m * np.sum(dz1)\n",
    "    return dw1,db1,dw2,db2\n"
   ]
  },
  {
   "cell_type": "code",
   "execution_count": 20,
   "metadata": {},
   "outputs": [],
   "source": [
    "def update_param(w1,b1,w2,b2,dw1,db1,dw2,db2,alpha):\n",
    "    w1 = w1 - alpha*dw1\n",
    "    b1 = b1 - alpha*db1\n",
    "    w2 = w2 - alpha*dw2\n",
    "    b2 = b2 - alpha*db2\n",
    "\n",
    "    return w1,b1,w2,b2"
   ]
  },
  {
   "cell_type": "code",
   "execution_count": 21,
   "metadata": {},
   "outputs": [],
   "source": [
    "def get_predictions(a2):\n",
    "    return np.argmax(a2,0)\n",
    "\n",
    "def get_accuracy(predictions,Y):\n",
    "    print(predictions,Y)\n",
    "    return np.sum(predictions == Y)/Y.size"
   ]
  },
  {
   "cell_type": "code",
   "execution_count": 30,
   "metadata": {},
   "outputs": [],
   "source": [
    "def gradient_descent(X,Y,iter,alpha):\n",
    "    w1,b1,w2,b2 = init_param()\n",
    "    for i in range(iter):\n",
    "        z1,a1,z2,a2 = forward_prop(w1,b1,w2,b2,X)\n",
    "        dw1, db1,dw2,db2 = back_prop(z1,a1,z2,a2,w2,X,Y)\n",
    "        w1,b1,w2,b2 = update_param(w1,b1,w2,b2,dw1,db1,dw2,db2,alpha)\n",
    "        if i%50 == 0:\n",
    "            print(\"Iteration: \",i)\n",
    "            print(\"Accuracy: \", get_accuracy(get_predictions(a2),Y))\n",
    "    return w1, b1, w2, b2"
   ]
  },
  {
   "cell_type": "code",
   "execution_count": 31,
   "metadata": {},
   "outputs": [
    {
     "name": "stdout",
     "output_type": "stream",
     "text": [
      "Iteration:  0\n",
      "[0 9 3 ... 1 0 1] [[7. 3. 1. ... 7. 4. 7.]]\n",
      "Accuracy:  0.11408474576271187\n",
      "Iteration:  50\n",
      "[7 3 1 ... 7 4 7] [[7. 3. 1. ... 7. 4. 7.]]\n",
      "Accuracy:  0.7089322033898305\n",
      "Iteration:  100\n",
      "[7 3 1 ... 7 4 7] [[7. 3. 1. ... 7. 4. 7.]]\n",
      "Accuracy:  0.8245932203389831\n",
      "Iteration:  150\n",
      "[7 3 1 ... 7 4 7] [[7. 3. 1. ... 7. 4. 7.]]\n",
      "Accuracy:  0.8581525423728814\n",
      "Iteration:  200\n",
      "[7 3 1 ... 7 4 7] [[7. 3. 1. ... 7. 4. 7.]]\n",
      "Accuracy:  0.8745254237288136\n",
      "Iteration:  250\n",
      "[7 3 1 ... 7 4 7] [[7. 3. 1. ... 7. 4. 7.]]\n",
      "Accuracy:  0.8842372881355932\n",
      "Iteration:  300\n",
      "[7 3 1 ... 7 4 7] [[7. 3. 1. ... 7. 4. 7.]]\n",
      "Accuracy:  0.8901694915254237\n",
      "Iteration:  350\n",
      "[7 3 1 ... 7 4 7] [[7. 3. 1. ... 7. 4. 7.]]\n",
      "Accuracy:  0.8948305084745762\n",
      "Iteration:  400\n",
      "[7 3 1 ... 7 4 7] [[7. 3. 1. ... 7. 4. 7.]]\n",
      "Accuracy:  0.8978644067796611\n",
      "Iteration:  450\n",
      "[7 3 1 ... 7 4 7] [[7. 3. 1. ... 7. 4. 7.]]\n",
      "Accuracy:  0.9005593220338983\n"
     ]
    }
   ],
   "source": [
    "W1, b1, W2, b2 = gradient_descent(x_train, y_train, 500, 0.10)"
   ]
  },
  {
   "cell_type": "code",
   "execution_count": 40,
   "metadata": {},
   "outputs": [],
   "source": [
    "def make_predictions(X, w1, b1, w2, b2):\n",
    "    _, _, _, a2 = forward_prop(w1, b1, w2, b2, X)\n",
    "    predictions = get_predictions(a2)\n",
    "    return predictions\n",
    "\n",
    "def test_prediction(index, W1, b1, W2, b2):\n",
    "    current_image = x_train[:, index, None]  # Extract the image column vector\n",
    "    prediction = make_predictions(current_image, W1, b1, W2, b2)\n",
    "    label = y_train.flatten()[index]  # Ensure it's a 1D array before indexing\n",
    "\n",
    "    print(\"Prediction:\", prediction)\n",
    "    print(\"Label:\", label)\n",
    "\n",
    "    current_image = current_image.reshape((28, 28)) * 255\n",
    "    plt.gray()\n",
    "    plt.imshow(current_image, interpolation='nearest')\n",
    "    plt.show()\n",
    "\n"
   ]
  },
  {
   "cell_type": "code",
   "execution_count": 41,
   "metadata": {},
   "outputs": [
    {
     "name": "stdout",
     "output_type": "stream",
     "text": [
      "Prediction: [7]\n",
      "Label: 7.0\n"
     ]
    },
    {
     "data": {
      "image/png": "[encoded data removed]",
      "text/plain": [
       "<Figure size 640x480 with 1 Axes>"
      ]
     },
     "metadata": {},
     "output_type": "display_data"
    }
   ],
   "source": [
    "test_prediction(0, W1, b1, W2, b2)"
   ]
  },
  {
   "cell_type": "code",
   "execution_count": 42,
   "metadata": {},
   "outputs": [
    {
     "name": "stdout",
     "output_type": "stream",
     "text": [
      "Prediction: [3]\n",
      "Label: 3.0\n"
     ]
    },
    {
     "data": {
      "image/png": "[encoded data removed]",
      "text/plain": [
       "<Figure size 640x480 with 1 Axes>"
      ]
     },
     "metadata": {},
     "output_type": "display_data"
    }
   ],
   "source": [
    "test_prediction(1, W1, b1, W2, b2)"
   ]
  },
  {
   "cell_type": "code",
   "execution_count": 44,
   "metadata": {},
   "outputs": [
    {
     "name": "stdout",
     "output_type": "stream",
     "text": [
      "Prediction: [3]\n",
      "Label: 3.0\n"
     ]
    },
    {
     "data": {
      "image/png": "[encoded data removed]",
      "text/plain": [
       "<Figure size 640x480 with 1 Axes>"
      ]
     },
     "metadata": {},
     "output_type": "display_data"
    }
   ],
   "source": [
    "\n",
    "test_prediction(200, W1, b1, W2, b2)"
   ]
  },
  {
   "cell_type": "code",
   "execution_count": null,
   "metadata": {},
   "outputs": [],
   "source": []
  }
 ],
 "metadata": {
  "kernelspec": {
   "display_name": "Python 3",
   "language": "python",
   "name": "python3"
  },
  "language_info": {
   "codemirror_mode": {
    "name": "ipython",
    "version": 3
   },
   "file_extension": ".py",
   "mimetype": "text/x-python",
   "name": "python",
   "nbconvert_exporter": "python",
   "pygments_lexer": "ipython3",
   "version": "3.12.0"
  }
 },
 "nbformat": 4,
 "nbformat_minor": 2
}
